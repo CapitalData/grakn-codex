{
 "metadata": {
  "language_info": {
   "codemirror_mode": {
    "name": "ipython",
    "version": 3
   },
   "file_extension": ".py",
   "mimetype": "text/x-python",
   "name": "python",
   "nbconvert_exporter": "python",
   "pygments_lexer": "ipython3",
   "version": "3.8.5-final"
  },
  "orig_nbformat": 2,
  "kernelspec": {
   "name": "python3",
   "display_name": "Python 3",
   "language": "python"
  }
 },
 "nbformat": 4,
 "nbformat_minor": 2,
 "cells": [
  {
   "cell_type": "code",
   "execution_count": 3,
   "metadata": {},
   "outputs": [],
   "source": [
    "import logging\n",
    "import pandas as pd\n",
    "from codex import CodexKg \n",
    "\n",
    "#Load csv data\n",
    "df = pd.read_csv(\"sample_data/tech_companies.csv\")\n",
    "\n"
   ]
  },
  {
   "cell_type": "code",
   "execution_count": null,
   "metadata": {},
   "outputs": [],
   "source": []
  },
  {
   "cell_type": "code",
   "execution_count": 4,
   "metadata": {},
   "outputs": [
    {
     "output_type": "execute_result",
     "data": {
      "text/plain": [
       "        name   budget\n",
       "0      Apple   123.45\n",
       "1     Google   999.99\n",
       "2  Microsoft   500.00\n",
       "3     Amazon  1000.00"
      ],
      "text/html": "<div>\n<style scoped>\n    .dataframe tbody tr th:only-of-type {\n        vertical-align: middle;\n    }\n\n    .dataframe tbody tr th {\n        vertical-align: top;\n    }\n\n    .dataframe thead th {\n        text-align: right;\n    }\n</style>\n<table border=\"1\" class=\"dataframe\">\n  <thead>\n    <tr style=\"text-align: right;\">\n      <th></th>\n      <th>name</th>\n      <th>budget</th>\n    </tr>\n  </thead>\n  <tbody>\n    <tr>\n      <th>0</th>\n      <td>Apple</td>\n      <td>123.45</td>\n    </tr>\n    <tr>\n      <th>1</th>\n      <td>Google</td>\n      <td>999.99</td>\n    </tr>\n    <tr>\n      <th>2</th>\n      <td>Microsoft</td>\n      <td>500.00</td>\n    </tr>\n    <tr>\n      <th>3</th>\n      <td>Amazon</td>\n      <td>1000.00</td>\n    </tr>\n  </tbody>\n</table>\n</div>"
     },
     "metadata": {},
     "execution_count": 4
    }
   ],
   "source": [
    "df"
   ]
  },
  {
   "cell_type": "code",
   "execution_count": 5,
   "metadata": {},
   "outputs": [
    {
     "output_type": "stream",
     "name": "stderr",
     "text": [
      "2020-12-20 22:28:32,801 : INFO : created new CodexKg\n",
      "2020-12-20 22:28:32,804 : INFO : creating new keyspace tech_example\n",
      "2020-12-20 22:28:32,805 : INFO : Connecting to grakn at localhost:48555\n",
      "2020-12-20 22:28:32,836 : INFO : Loading data from redis\n"
     ]
    },
    {
     "output_type": "execute_result",
     "data": {
      "text/plain": [
       "0"
      ]
     },
     "metadata": {},
     "execution_count": 5
    }
   ],
   "source": [
    "\n",
    "#Make new codex object\n",
    "codexkg = CodexKg()\n",
    "\n",
    "#Create new keyspace\n",
    "codexkg.create_db(\"tech_example\")\n"
   ]
  },
  {
   "cell_type": "code",
   "execution_count": 6,
   "metadata": {},
   "outputs": [
    {
     "output_type": "stream",
     "name": "stderr",
     "text": [
      "2020-12-20 22:28:59,413 : INFO : Creating entity Company\n",
      "2020-12-20 22:28:59,466 : INFO : Executing Graql Query: define Company sub entity,key name, has budget;\n",
      "2020-12-20 22:28:59,502 : INFO : Executing Graql Query: insert $c isa Company, has name \"Apple\", has budget 123.45;\n",
      "2020-12-20 22:28:59,618 : INFO : Query failed: insert $c isa Company, has name \"Apple\", has budget 123.45;\n",
      "2020-12-20 22:28:59,619 : INFO : Server/network error: <_Rendezvous of RPC that terminated with:\n",
      "\tstatus = StatusCode.UNKNOWN\n",
      "\tdetails = \"grakn.core.kb.server.exception.InvalidKBException: A structural validation error has occurred. Please correct the [`1`] errors found. \n",
      "There is more than one thing of type [Company] that owns the key [Apple] of type [name]. \n",
      ". Please check server logs for the stack trace.\"\n",
      "\tdebug_error_string = \"{\"created\":\"@1608524939.618173800\",\"description\":\"Error received from peer ipv6:[::1]:48555\",\"file\":\"src/core/lib/surface/call.cc\",\"file_line\":1055,\"grpc_message\":\"grakn.core.kb.server.exception.InvalidKBException: A structural validation error has occurred. Please correct the [`1`] errors found. \\nThere is more than one thing of type [Company] that owns the key [Apple] of type [name]. \\n. Please check server logs for the stack trace.\",\"grpc_status\":2}\"\n",
      ">\n",
      "\n",
      " generated from request: iter_req {\n",
      "  options {\n",
      "  }\n",
      "  query_iter_req {\n",
      "    query: \"insert $c isa Company, has name \\\"Apple\\\", has budget 123.45;\"\n",
      "    options {\n",
      "    }\n",
      "  }\n",
      "}\n",
      "\n",
      "2020-12-20 22:28:59,623 : INFO : Executing Graql Query: insert $c isa Company, has name \"Google\", has budget 999.99;\n",
      "2020-12-20 22:28:59,686 : INFO : Query failed: insert $c isa Company, has name \"Google\", has budget 999.99;\n",
      "2020-12-20 22:28:59,687 : INFO : Server/network error: <_Rendezvous of RPC that terminated with:\n",
      "\tstatus = StatusCode.UNKNOWN\n",
      "\tdetails = \"grakn.core.kb.server.exception.InvalidKBException: A structural validation error has occurred. Please correct the [`1`] errors found. \n",
      "There is more than one thing of type [Company] that owns the key [Google] of type [name]. \n",
      ". Please check server logs for the stack trace.\"\n",
      "\tdebug_error_string = \"{\"created\":\"@1608524939.685896830\",\"description\":\"Error received from peer ipv6:[::1]:48555\",\"file\":\"src/core/lib/surface/call.cc\",\"file_line\":1055,\"grpc_message\":\"grakn.core.kb.server.exception.InvalidKBException: A structural validation error has occurred. Please correct the [`1`] errors found. \\nThere is more than one thing of type [Company] that owns the key [Google] of type [name]. \\n. Please check server logs for the stack trace.\",\"grpc_status\":2}\"\n",
      ">\n",
      "\n",
      " generated from request: commit_req {\n",
      "}\n",
      "\n",
      "2020-12-20 22:28:59,696 : INFO : Executing Graql Query: insert $c isa Company, has name \"Microsoft\", has budget 500.0;\n",
      "2020-12-20 22:28:59,755 : INFO : Query failed: insert $c isa Company, has name \"Microsoft\", has budget 500.0;\n",
      "2020-12-20 22:28:59,756 : INFO : Server/network error: <_Rendezvous of RPC that terminated with:\n",
      "\tstatus = StatusCode.UNKNOWN\n",
      "\tdetails = \"grakn.core.kb.server.exception.InvalidKBException: A structural validation error has occurred. Please correct the [`1`] errors found. \n",
      "There is more than one thing of type [Company] that owns the key [Microsoft] of type [name]. \n",
      ". Please check server logs for the stack trace.\"\n",
      "\tdebug_error_string = \"{\"created\":\"@1608524939.755010781\",\"description\":\"Error received from peer ipv6:[::1]:48555\",\"file\":\"src/core/lib/surface/call.cc\",\"file_line\":1055,\"grpc_message\":\"grakn.core.kb.server.exception.InvalidKBException: A structural validation error has occurred. Please correct the [`1`] errors found. \\nThere is more than one thing of type [Company] that owns the key [Microsoft] of type [name]. \\n. Please check server logs for the stack trace.\",\"grpc_status\":2}\"\n",
      ">\n",
      "\n",
      " generated from request: commit_req {\n",
      "}\n",
      "\n",
      "2020-12-20 22:28:59,760 : INFO : Executing Graql Query: insert $c isa Company, has name \"Amazon\", has budget 1000.0;\n",
      "2020-12-20 22:28:59,826 : INFO : Query failed: insert $c isa Company, has name \"Amazon\", has budget 1000.0;\n",
      "2020-12-20 22:28:59,827 : INFO : Server/network error: <_Rendezvous of RPC that terminated with:\n",
      "\tstatus = StatusCode.UNKNOWN\n",
      "\tdetails = \"grakn.core.kb.server.exception.InvalidKBException: A structural validation error has occurred. Please correct the [`1`] errors found. \n",
      "There is more than one thing of type [Company] that owns the key [Amazon] of type [name]. \n",
      ". Please check server logs for the stack trace.\"\n",
      "\tdebug_error_string = \"{\"created\":\"@1608524939.826173531\",\"description\":\"Error received from peer ipv6:[::1]:48555\",\"file\":\"src/core/lib/surface/call.cc\",\"file_line\":1055,\"grpc_message\":\"grakn.core.kb.server.exception.InvalidKBException: A structural validation error has occurred. Please correct the [`1`] errors found. \\nThere is more than one thing of type [Company] that owns the key [Amazon] of type [name]. \\n. Please check server logs for the stack trace.\",\"grpc_status\":2}\"\n",
      ">\n",
      "\n",
      " generated from request: commit_req {\n",
      "}\n",
      "\n"
     ]
    },
    {
     "output_type": "execute_result",
     "data": {
      "text/plain": [
       "(0, 'good')"
      ]
     },
     "metadata": {},
     "execution_count": 6
    }
   ],
   "source": [
    "#Load data into Grakn\n",
    "codexkg.create_entity(df, \"Company\", entity_key=\"name\")\n"
   ]
  },
  {
   "cell_type": "code",
   "execution_count": 7,
   "metadata": {},
   "outputs": [
    {
     "output_type": "stream",
     "name": "stderr",
     "text": [
      "2020-12-20 23:07:37,080 : INFO : Finding Company data\n",
      "2020-12-20 23:07:37,082 : INFO : Find Companies that have a name that equals Google\n",
      "2020-12-20 23:07:37,083 : INFO : Find Companies that have a name that equals Google. \n",
      "2020-12-20 23:07:37,135 : INFO : Here is the graql\n",
      "2020-12-20 23:07:37,137 : INFO : match $Company isa Company, has name \"Google\";get;\n",
      "2020-12-20 23:07:37,240 : INFO : {'Company':    budget    name\n",
      "0  999.99  Google, 'graql_queries': ['match $Company isa Company, has name \"Google\";get;']}\n"
     ]
    }
   ],
   "source": [
    "\n",
    "# Find Company that has a name equal to Google\n",
    "ans = codexkg.find(\n",
    "        concept=\"Company\",\n",
    "        concept_attrs=[\"name\"],\n",
    "        concept_conds=[\"equals\"],\n",
    "        concept_values=[\"Google\"],\n",
    ")\n",
    "\n",
    "#Display data as a DataFrame\n",
    "logging.info(ans)\n",
    "\n",
    "# {'Company':      name  budget\n",
    "#\t\t\t\t0  Google  999.99}"
   ]
  },
  {
   "cell_type": "code",
   "execution_count": 16,
   "metadata": {},
   "outputs": [
    {
     "output_type": "error",
     "ename": "SyntaxError",
     "evalue": "keyword argument repeated (<ipython-input-16-0b78e283e42a>, line 6)",
     "traceback": [
      "\u001b[0;36m  File \u001b[0;32m\"<ipython-input-16-0b78e283e42a>\"\u001b[0;36m, line \u001b[0;32m6\u001b[0m\n\u001b[0;31m    concept_values=[\"Google\"],\u001b[0m\n\u001b[0m    ^\u001b[0m\n\u001b[0;31mSyntaxError\u001b[0m\u001b[0;31m:\u001b[0m keyword argument repeated\n"
     ]
    }
   ],
   "source": [
    "ans = codexkg.find(\n",
    "        concept=\"Company\",\n",
    "        concept_attrs=[\"name\"],\n",
    "        concept_conds=[\"equals\"],\n",
    "        concept_values=[\"Apple\"],\n",
    ")\n",
    "\n",
    "#Display data as a DataFrame\n",
    "logging.info(ans)\n",
    "\n",
    "# {'Company':      name  budget\n",
    "#\t\t\t\t0  Google  999.99}"
   ]
  },
  {
   "cell_type": "code",
   "execution_count": 15,
   "metadata": {},
   "outputs": [
    {
     "output_type": "execute_result",
     "data": {
      "text/plain": [
       "   budget   name\n",
       "0  123.45  Apple"
      ],
      "text/html": "<div>\n<style scoped>\n    .dataframe tbody tr th:only-of-type {\n        vertical-align: middle;\n    }\n\n    .dataframe tbody tr th {\n        vertical-align: top;\n    }\n\n    .dataframe thead th {\n        text-align: right;\n    }\n</style>\n<table border=\"1\" class=\"dataframe\">\n  <thead>\n    <tr style=\"text-align: right;\">\n      <th></th>\n      <th>budget</th>\n      <th>name</th>\n    </tr>\n  </thead>\n  <tbody>\n    <tr>\n      <th>0</th>\n      <td>123.45</td>\n      <td>Apple</td>\n    </tr>\n  </tbody>\n</table>\n</div>"
     },
     "metadata": {},
     "execution_count": 15
    }
   ],
   "source": [
    "ans['Company']"
   ]
  },
  {
   "cell_type": "code",
   "execution_count": null,
   "metadata": {},
   "outputs": [],
   "source": []
  }
 ]
}